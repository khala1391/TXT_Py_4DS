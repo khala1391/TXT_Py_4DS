{
 "cells": [
  {
   "cell_type": "markdown",
   "id": "d33bf775-2fa8-45da-9d8e-7be4f9f97d0b",
   "metadata": {},
   "source": [
    "## Chapter1: Preliminaries"
   ]
  },
  {
   "cell_type": "markdown",
   "id": "4866cf11-1bc9-42df-9593-68713631c2c0",
   "metadata": {},
   "source": [
    "---\n",
    "* Author:  [Yuttapong Mahasittiwat](mailto:khala1391@gmail.com)\n",
    "* Technologist | Data Modeler | Data Analyst\n",
    "* [YouTube](https://www.youtube.com/khala1391)\n",
    "* [LinkedIn](https://www.linkedin.com/in/yuttapong-m/)\n",
    "---"
   ]
  },
  {
   "cell_type": "markdown",
   "id": "94a4a6aa-c1f2-466c-8cb4-2c7a90505dec",
   "metadata": {},
   "source": [
    "Source: [**Python for Data Analysis** by **WesMckinney**](https://wesmckinney.com/book/)"
   ]
  },
  {
   "cell_type": "code",
   "execution_count": 3,
   "id": "c692822d-5491-43e0-8153-7c804aabd2cf",
   "metadata": {},
   "outputs": [
    {
     "name": "stdout",
     "output_type": "stream",
     "text": [
      "numpy version : 1.26.4\n",
      "pandas version : 2.2.1\n"
     ]
    }
   ],
   "source": [
    "import numpy as np\n",
    "import pandas as pd\n",
    "print(\"numpy version :\",np.__version__)\n",
    "print(\"pandas version :\",pd.__version__)"
   ]
  }
 ],
 "metadata": {
  "kernelspec": {
   "display_name": "Python 3 (ipykernel)",
   "language": "python",
   "name": "python3"
  },
  "language_info": {
   "codemirror_mode": {
    "name": "ipython",
    "version": 3
   },
   "file_extension": ".py",
   "mimetype": "text/x-python",
   "name": "python",
   "nbconvert_exporter": "python",
   "pygments_lexer": "ipython3",
   "version": "3.11.9"
  }
 },
 "nbformat": 4,
 "nbformat_minor": 5
}
